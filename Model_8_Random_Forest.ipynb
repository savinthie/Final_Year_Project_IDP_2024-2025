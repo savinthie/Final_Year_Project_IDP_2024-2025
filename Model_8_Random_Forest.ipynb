{
  "nbformat": 4,
  "nbformat_minor": 0,
  "metadata": {
    "colab": {
      "provenance": [],
      "authorship_tag": "ABX9TyMcE5Zz9+524vwDQtrtchrk",
      "include_colab_link": true
    },
    "kernelspec": {
      "name": "python3",
      "display_name": "Python 3"
    },
    "language_info": {
      "name": "python"
    }
  },
  "cells": [
    {
      "cell_type": "markdown",
      "metadata": {
        "id": "view-in-github",
        "colab_type": "text"
      },
      "source": [
        "<a href=\"https://colab.research.google.com/github/savinthie/Final_Year_Project_IDP_2024-2025/blob/main/Model_8_Random_Forest.ipynb\" target=\"_parent\"><img src=\"https://colab.research.google.com/assets/colab-badge.svg\" alt=\"Open In Colab\"/></a>"
      ]
    },
    {
      "cell_type": "code",
      "execution_count": null,
      "metadata": {
        "id": "VTX7OWHaOrSK"
      },
      "outputs": [],
      "source": [
        "# Import necessary libraries\n",
        "from tensorflow.keras.layers import Layer\n",
        "from tensorflow.keras import backend as K\n",
        "import numpy as np\n",
        "import pandas as pd\n",
        "from sklearn.model_selection import train_test_split, KFold\n",
        "from sklearn.preprocessing import StandardScaler, MinMaxScaler\n",
        "from sklearn.metrics import mean_squared_error, mean_absolute_error, r2_score\n",
        "from tensorflow.keras.models import Model\n",
        "from tensorflow.keras.layers import Input, Conv1D, Flatten, Dense, ReLU, Concatenate, MaxPooling1D,Dropout\n",
        "from tensorflow.keras.optimizers import Adam\n",
        "import joblib\n",
        "import matplotlib.pyplot as plt\n",
        "from keras.callbacks import EarlyStopping\n"
      ]
    },
    {
      "cell_type": "code",
      "source": [
        "from google.colab import drive\n",
        "drive.mount('/content/drive')\n",
        "df = pd.read_csv('/content/drive/MyDrive/FYP 2024 25/USDataset.csv', header=1)\n",
        "df = df.fillna(0)"
      ],
      "metadata": {
        "colab": {
          "base_uri": "https://localhost:8080/"
        },
        "id": "1IEDLU4uOyUI",
        "outputId": "6e38945b-9e28-4a81-8de2-298edf237852"
      },
      "execution_count": null,
      "outputs": [
        {
          "output_type": "stream",
          "name": "stdout",
          "text": [
            "Mounted at /content/drive\n"
          ]
        }
      ]
    },
    {
      "cell_type": "code",
      "source": [
        "# Data Preprocessing\n",
        "df.columns = [col.lower().replace(' ', '').replace('.', '') for col in df.columns]\n",
        "cols_to_keep = ['stateabv', 'county', 'family', 'housing', 'food', 'transportation',\n",
        "                'healthcare', 'othernecessities', 'childcare', 'taxes', 'total',\n",
        "                'median_family_income', 'num_counties_in_st']\n",
        "df1 = df[cols_to_keep].copy()\n",
        "\n",
        "df1['median_family_income'] = df1['median_family_income'].replace(',', '', regex=True).astype(float)"
      ],
      "metadata": {
        "id": "LUFcxk6pO2GF"
      },
      "execution_count": null,
      "outputs": []
    },
    {
      "cell_type": "code",
      "source": [
        "# Feature Engineering\n",
        "df1['n_parents'] = df1['family'].str.slice(0, 1).astype(int)\n",
        "df1['n_children'] = df1['family'].str.slice(2, 3).astype(int)\n",
        "df1['n_members'] = df1['n_parents'] + df1['n_children']\n",
        "df1['financial_stability'] = df1['median_family_income'] / df1['total']\n",
        "df1[\"per_member_cost\"] = df1[\"total\"] / df1[\"n_members\"]\n",
        "df1[\"child_expense_cost\"] = df1[\"per_member_cost\"]*df1[\"n_children\"]\n",
        "df1[\"parent_expense_cost\"] = df1[\"per_member_cost\"]*df1[\"n_parents\"]\n",
        "df1[\"other_expense_cost\"] = df1[\"total\"] - (df1[\"child_expense_cost\"]+df1[\"parent_expense_cost\"])"
      ],
      "metadata": {
        "id": "8_rNXBRmO5fW"
      },
      "execution_count": null,
      "outputs": []
    },
    {
      "cell_type": "code",
      "source": [
        "# Splitting the data\n",
        "X = df1[['total', 'median_family_income', 'num_counties_in_st', 'n_children', 'n_parents', 'n_members']+['per_member_cost','child_expense_cost','parent_expense_cost','other_expense_cost']].values\n",
        "y_expenses = df1[['housing', 'food', 'transportation', 'healthcare', 'othernecessities', 'childcare', 'taxes']].values\n",
        "\n",
        "target_col_list = ['housing', 'food', 'transportation', 'healthcare', 'othernecessities', 'childcare', 'taxes']\n",
        "\n",
        "# Scaling\n",
        "scaler_X = StandardScaler()\n",
        "\n",
        "# Load the X scaler\n",
        "# scaler_X = joblib.load('scaler_X.pkl')\n",
        "\n",
        "X_scaled = scaler_X.fit_transform(X)\n",
        "\n",
        "scaler_y = StandardScaler()\n",
        "\n",
        "# Load the y scaler\n",
        "# scaler_y = joblib.load('scaler_y.pkl')\n",
        "y_exp_scaled = scaler_y.fit_transform(y_expenses)\n",
        "\n",
        "\n",
        "\n",
        "# Save the X scaler\n",
        "joblib.dump(scaler_X, 'scaler_X.pkl')\n",
        "\n",
        "# Save the y scaler\n",
        "joblib.dump(scaler_y, 'scaler_y.pkl')"
      ],
      "metadata": {
        "colab": {
          "base_uri": "https://localhost:8080/"
        },
        "id": "Vo16X63mO_t1",
        "outputId": "43a0c10c-0f4a-4eaf-9e04-3cbce5d149cd"
      },
      "execution_count": null,
      "outputs": [
        {
          "output_type": "execute_result",
          "data": {
            "text/plain": [
              "['scaler_y.pkl']"
            ]
          },
          "metadata": {},
          "execution_count": 5
        }
      ]
    },
    {
      "cell_type": "code",
      "source": [
        "# Cross-Validation Setup\n",
        "kf = KFold(n_splits=5, shuffle=True, random_state=100)\n",
        "\n",
        "# Metrics\n",
        "def print_metrics(y_true, y_pred, task_name):\n",
        "    mse = mean_squared_error(y_true, y_pred)\n",
        "    r2 = r2_score(y_true, y_pred)\n",
        "    print(f\"{task_name} - MSE: {mse:.4f}, R2: {r2:.4f}\")\n",
        "\n",
        "def regr_report(x, y):\n",
        "    mae = round(mean_absolute_error(x, y), 4)\n",
        "    r2 = round(r2_score(x, y), 4)\n",
        "    mse = round(mean_squared_error(x, y), 4)\n",
        "    rmse = round(np.sqrt(mean_squared_error(x, y)), 4)\n",
        "    return f'MAE: {mae}, R-Squared: {r2}, RMSE: {rmse}, MSE: {mse}'"
      ],
      "metadata": {
        "id": "_VUdx-ZBPCoY"
      },
      "execution_count": null,
      "outputs": []
    },
    {
      "cell_type": "code",
      "source": [
        "from tensorflow.keras.layers import Input, Conv1D, Dropout, Flatten, Dense\n",
        "from tensorflow.keras.models import Model\n",
        "from tensorflow.keras.regularizers import l2\n",
        "\n",
        "# L2 regularization strength (you can tune this value)\n",
        "l2_strength = 0.01\n",
        "\n",
        "# Hybrid model setup\n",
        "def create_hybrid_model(input_shape, output_shape):\n",
        "    input_layer = Input(shape=input_shape)\n",
        "\n",
        "    # CNN part with Dropout and L2 Regularization\n",
        "    x = Conv1D(filters=8, kernel_size=3, padding='same', activation='relu',\n",
        "               kernel_regularizer=l2(l2_strength))(input_layer)  # L2 Regularization\n",
        "    x = Dropout(0.2)(x)  # Dropout after the convolutional layer\n",
        "    x = Flatten()(x)\n",
        "\n",
        "    # ANN part with Dropout and L2 Regularization\n",
        "    x = Dense(128, activation='relu', kernel_regularizer=l2(l2_strength))(x)\n",
        "    x = Dropout(0.2)(x)  # Dropout after first dense layer\n",
        "    x = Dense(64, activation='relu', kernel_regularizer=l2(l2_strength))(x)\n",
        "    x = Dropout(0.3)(x)  # Dropout after second dense layer\n",
        "    x = Dense(32, activation='relu', kernel_regularizer=l2(l2_strength))(x)\n",
        "    x = Dropout(0.3)(x)  # Dropout after third dense layer\n",
        "\n",
        "    # Output layers\n",
        "    output_layers = [Dense(1, activation='linear', name=f'target_{col}')(x) for col in target_col_list]\n",
        "\n",
        "    model = Model(inputs=input_layer, outputs=output_layers)\n",
        "\n",
        "    return model"
      ],
      "metadata": {
        "id": "2I48OvmfPFN_"
      },
      "execution_count": null,
      "outputs": []
    },
    {
      "cell_type": "code",
      "source": [
        "import matplotlib.pyplot as plt\n",
        "import numpy as np\n",
        "import pandas as pd\n",
        "from sklearn.model_selection import train_test_split\n",
        "from tensorflow.keras.callbacks import EarlyStopping\n",
        "from tensorflow.keras.optimizers import Adam\n",
        "\n",
        "# Cross-Validation with Evaluation and Training/Validation Loss Curve\n",
        "def cross_val_with_evaluation(X_scaled, y_exp_scaled, kf, num_epochs=500):\n",
        "    fold = 1\n",
        "\n",
        "    # To store metrics across all folds\n",
        "    metrics_summary = {target: {'train': [], 'val': [], 'test': []} for target in target_col_list}\n",
        "\n",
        "    # To store loss values for each fold\n",
        "    all_train_loss = []\n",
        "    all_val_loss = []\n",
        "\n",
        "    for train_index, val_index in kf.split(X_scaled):\n",
        "        print(f\"Fold {fold}/{kf.get_n_splits()}\")\n",
        "        X_train, X_test_val = X_scaled[train_index], X_scaled[val_index]\n",
        "        y_train, y_test_val = y_exp_scaled[train_index], y_exp_scaled[val_index]\n",
        "\n",
        "        # 50/50 split of remaining 20% for test and validation sets\n",
        "        X_test, X_val, y_test, y_val = train_test_split(X_test_val, y_test_val, test_size=0.5, random_state=100)\n",
        "\n",
        "        # Reshaping data for CNN\n",
        "        X_train = X_train[..., np.newaxis]\n",
        "        X_val = X_val[..., np.newaxis]\n",
        "        X_test = X_test[..., np.newaxis]\n",
        "\n",
        "        # Early stopping to prevent overfitting\n",
        "        early_stopping = EarlyStopping(\n",
        "            monitor='val_loss',\n",
        "            patience=40,\n",
        "            verbose=1,\n",
        "            mode='min',\n",
        "            restore_best_weights=True\n",
        "        )\n",
        "\n",
        "        # Create and compile the model\n",
        "        model = create_hybrid_model((X_train.shape[1], 1), y_train.shape[1])\n",
        "        model.compile(optimizer=Adam(learning_rate=0.001), loss='mean_squared_error')\n",
        "        model.summary()\n",
        "\n",
        "        # Training\n",
        "        history = model.fit(\n",
        "            X_train, [y_train[:, i] for i in range(y_train.shape[1])],\n",
        "            validation_data=(X_val, [y_val[:, i] for i in range(y_val.shape[1])]),\n",
        "            epochs=num_epochs,\n",
        "            batch_size=128,\n",
        "            verbose=1,\n",
        "            callbacks=[early_stopping]\n",
        "        )\n",
        "\n",
        "        # Store loss values for the current fold\n",
        "        all_train_loss.append(history.history['loss'])\n",
        "        all_val_loss.append(history.history['val_loss'])\n",
        "\n",
        "        # Predictions\n",
        "        y_train_pred = np.column_stack(model.predict(X_train))\n",
        "        y_val_pred = np.column_stack(model.predict(X_val))\n",
        "        y_test_pred = np.column_stack(model.predict(X_test))  # Prediction on test set\n",
        "\n",
        "        # Inverse scaling\n",
        "        y_train_pred_original = scaler_y.inverse_transform(y_train_pred)\n",
        "        y_train_original = scaler_y.inverse_transform(y_train)\n",
        "        y_val_pred_original = scaler_y.inverse_transform(y_val_pred)\n",
        "        y_val_original = scaler_y.inverse_transform(y_val)\n",
        "        y_test_pred_original = scaler_y.inverse_transform(y_test_pred)  # Inverse transform for test set\n",
        "        y_test_original = scaler_y.inverse_transform(y_test)  # Inverse transform for test set\n",
        "\n",
        "        # Metrics for each target and accumulate results\n",
        "        for i, target in enumerate(target_col_list):\n",
        "            print(f'Model Results for {target.capitalize()} (Fold {fold}):')\n",
        "            train_metrics = regr_report(y_train_original[:, i], y_train_pred_original[:, i])\n",
        "            val_metrics = regr_report(y_val_original[:, i], y_val_pred_original[:, i])\n",
        "            test_metrics = regr_report(y_test_original[:, i], y_test_pred_original[:, i])\n",
        "\n",
        "            # Store metrics for this fold\n",
        "            metrics_summary[target]['train'].append(train_metrics)\n",
        "            metrics_summary[target]['val'].append(val_metrics)\n",
        "            metrics_summary[target]['test'].append(test_metrics)\n",
        "\n",
        "            print('Train Data:', train_metrics)\n",
        "            print('Validation Data:', val_metrics)\n",
        "            print('Test Data:', test_metrics)\n",
        "            print()\n",
        "\n",
        "        fold += 1\n",
        "\n",
        "    # Compute and display final average metrics across all folds\n",
        "    print(\"Final Average Metrics After 5 Folds:\")\n",
        "    for target in target_col_list:\n",
        "        print(f\"Results for {target.capitalize()}:\")\n",
        "\n",
        "        # Modified to calculate average metrics from numerical values\n",
        "        train_metrics_df = pd.DataFrame([eval(x.replace('MAE: ', '').replace('R-Squared: ', '').replace('RMSE: ', '').replace('MSE: ', '').replace(', ', ',')) for x in metrics_summary[target]['train']], columns=['MAE', 'R-Squared', 'RMSE', 'MSE'])\n",
        "        avg_train_metrics = train_metrics_df.mean().to_dict()\n",
        "\n",
        "        val_metrics_df = pd.DataFrame([eval(x.replace('MAE: ', '').replace('R-Squared: ', '').replace('RMSE: ', '').replace('MSE: ', '').replace(', ', ',')) for x in metrics_summary[target]['val']], columns=['MAE', 'R-Squared', 'RMSE', 'MSE'])\n",
        "        avg_val_metrics = val_metrics_df.mean().to_dict()\n",
        "\n",
        "        test_metrics_df = pd.DataFrame([eval(x.replace('MAE: ', '').replace('R-Squared: ', '').replace('RMSE: ', '').replace('MSE: ', '').replace(', ', ',')) for x in metrics_summary[target]['test']], columns=['MAE', 'R-Squared', 'RMSE', 'MSE'])\n",
        "        avg_test_metrics = test_metrics_df.mean().to_dict()\n",
        "\n",
        "        print(\"Average Train Metrics:\", avg_train_metrics)\n",
        "        print(\"Average Validation Metrics:\", avg_val_metrics)\n",
        "        print(\"Average Test Metrics:\", avg_test_metrics)\n",
        "        print()\n",
        "\n",
        "    # Plot Training and Validation Loss\n",
        "    plt.figure(figsize=(10, 6))\n",
        "    for i, (train_loss, val_loss) in enumerate(zip(all_train_loss, all_val_loss)):\n",
        "        plt.plot(val_loss, label=f'Fold {i + 1} Validation Loss')\n",
        "        plt.plot(train_loss, label=f'Fold {i + 1} Train Loss')\n",
        "\n",
        "\n",
        "    plt.title(\"Training and Validation Loss Across Folds\")\n",
        "    plt.xlabel(\"Epochs\")\n",
        "    plt.ylabel(\"Loss\")\n",
        "    plt.legend()\n",
        "    plt.grid(True)\n",
        "    plt.show()\n",
        "\n",
        "    return model, y_train_original, y_train_pred_original, y_val_original, y_val_pred_original, y_test_original, y_test_pred_original\n",
        "\n",
        "# Cross-Validation Execution\n",
        "model, y_train_original, y_train_pred_original, y_val_original, y_val_pred_original, y_test_original, y_test_pred_original = cross_val_with_evaluation(X_scaled, y_exp_scaled, kf)\n",
        "model.save_weights(\"model_expenses.weights.h5\")\n"
      ],
      "metadata": {
        "colab": {
          "base_uri": "https://localhost:8080/",
          "height": 800
        },
        "id": "7EneqoMHr0ss",
        "outputId": "b575041c-ea1f-41fe-ae01-31f2766852cd"
      },
      "execution_count": null,
      "outputs": [
        {
          "output_type": "stream",
          "name": "stdout",
          "text": [
            "Fold 1/5\n"
          ]
        },
        {
          "output_type": "display_data",
          "data": {
            "text/plain": [
              "\u001b[1mModel: \"functional\"\u001b[0m\n"
            ],
            "text/html": [
              "<pre style=\"white-space:pre;overflow-x:auto;line-height:normal;font-family:Menlo,'DejaVu Sans Mono',consolas,'Courier New',monospace\"><span style=\"font-weight: bold\">Model: \"functional\"</span>\n",
              "</pre>\n"
            ]
          },
          "metadata": {}
        },
        {
          "output_type": "display_data",
          "data": {
            "text/plain": [
              "┏━━━━━━━━━━━━━━━━━━━━━━━━━━━┳━━━━━━━━━━━━━━━━━━━━━━━━┳━━━━━━━━━━━━━━━━┳━━━━━━━━━━━━━━━━━━━━━━━━┓\n",
              "┃\u001b[1m \u001b[0m\u001b[1mLayer (type)             \u001b[0m\u001b[1m \u001b[0m┃\u001b[1m \u001b[0m\u001b[1mOutput Shape          \u001b[0m\u001b[1m \u001b[0m┃\u001b[1m \u001b[0m\u001b[1m       Param #\u001b[0m\u001b[1m \u001b[0m┃\u001b[1m \u001b[0m\u001b[1mConnected to          \u001b[0m\u001b[1m \u001b[0m┃\n",
              "┡━━━━━━━━━━━━━━━━━━━━━━━━━━━╇━━━━━━━━━━━━━━━━━━━━━━━━╇━━━━━━━━━━━━━━━━╇━━━━━━━━━━━━━━━━━━━━━━━━┩\n",
              "│ input_layer (\u001b[38;5;33mInputLayer\u001b[0m)  │ (\u001b[38;5;45mNone\u001b[0m, \u001b[38;5;34m10\u001b[0m, \u001b[38;5;34m1\u001b[0m)          │              \u001b[38;5;34m0\u001b[0m │ -                      │\n",
              "├───────────────────────────┼────────────────────────┼────────────────┼────────────────────────┤\n",
              "│ conv1d (\u001b[38;5;33mConv1D\u001b[0m)           │ (\u001b[38;5;45mNone\u001b[0m, \u001b[38;5;34m10\u001b[0m, \u001b[38;5;34m8\u001b[0m)          │             \u001b[38;5;34m32\u001b[0m │ input_layer[\u001b[38;5;34m0\u001b[0m][\u001b[38;5;34m0\u001b[0m]      │\n",
              "├───────────────────────────┼────────────────────────┼────────────────┼────────────────────────┤\n",
              "│ dropout (\u001b[38;5;33mDropout\u001b[0m)         │ (\u001b[38;5;45mNone\u001b[0m, \u001b[38;5;34m10\u001b[0m, \u001b[38;5;34m8\u001b[0m)          │              \u001b[38;5;34m0\u001b[0m │ conv1d[\u001b[38;5;34m0\u001b[0m][\u001b[38;5;34m0\u001b[0m]           │\n",
              "├───────────────────────────┼────────────────────────┼────────────────┼────────────────────────┤\n",
              "│ flatten (\u001b[38;5;33mFlatten\u001b[0m)         │ (\u001b[38;5;45mNone\u001b[0m, \u001b[38;5;34m80\u001b[0m)             │              \u001b[38;5;34m0\u001b[0m │ dropout[\u001b[38;5;34m0\u001b[0m][\u001b[38;5;34m0\u001b[0m]          │\n",
              "├───────────────────────────┼────────────────────────┼────────────────┼────────────────────────┤\n",
              "│ dense (\u001b[38;5;33mDense\u001b[0m)             │ (\u001b[38;5;45mNone\u001b[0m, \u001b[38;5;34m128\u001b[0m)            │         \u001b[38;5;34m10,368\u001b[0m │ flatten[\u001b[38;5;34m0\u001b[0m][\u001b[38;5;34m0\u001b[0m]          │\n",
              "├───────────────────────────┼────────────────────────┼────────────────┼────────────────────────┤\n",
              "│ dropout_1 (\u001b[38;5;33mDropout\u001b[0m)       │ (\u001b[38;5;45mNone\u001b[0m, \u001b[38;5;34m128\u001b[0m)            │              \u001b[38;5;34m0\u001b[0m │ dense[\u001b[38;5;34m0\u001b[0m][\u001b[38;5;34m0\u001b[0m]            │\n",
              "├───────────────────────────┼────────────────────────┼────────────────┼────────────────────────┤\n",
              "│ dense_1 (\u001b[38;5;33mDense\u001b[0m)           │ (\u001b[38;5;45mNone\u001b[0m, \u001b[38;5;34m64\u001b[0m)             │          \u001b[38;5;34m8,256\u001b[0m │ dropout_1[\u001b[38;5;34m0\u001b[0m][\u001b[38;5;34m0\u001b[0m]        │\n",
              "├───────────────────────────┼────────────────────────┼────────────────┼────────────────────────┤\n",
              "│ dropout_2 (\u001b[38;5;33mDropout\u001b[0m)       │ (\u001b[38;5;45mNone\u001b[0m, \u001b[38;5;34m64\u001b[0m)             │              \u001b[38;5;34m0\u001b[0m │ dense_1[\u001b[38;5;34m0\u001b[0m][\u001b[38;5;34m0\u001b[0m]          │\n",
              "├───────────────────────────┼────────────────────────┼────────────────┼────────────────────────┤\n",
              "│ dense_2 (\u001b[38;5;33mDense\u001b[0m)           │ (\u001b[38;5;45mNone\u001b[0m, \u001b[38;5;34m32\u001b[0m)             │          \u001b[38;5;34m2,080\u001b[0m │ dropout_2[\u001b[38;5;34m0\u001b[0m][\u001b[38;5;34m0\u001b[0m]        │\n",
              "├───────────────────────────┼────────────────────────┼────────────────┼────────────────────────┤\n",
              "│ dropout_3 (\u001b[38;5;33mDropout\u001b[0m)       │ (\u001b[38;5;45mNone\u001b[0m, \u001b[38;5;34m32\u001b[0m)             │              \u001b[38;5;34m0\u001b[0m │ dense_2[\u001b[38;5;34m0\u001b[0m][\u001b[38;5;34m0\u001b[0m]          │\n",
              "├───────────────────────────┼────────────────────────┼────────────────┼────────────────────────┤\n",
              "│ target_housing (\u001b[38;5;33mDense\u001b[0m)    │ (\u001b[38;5;45mNone\u001b[0m, \u001b[38;5;34m1\u001b[0m)              │             \u001b[38;5;34m33\u001b[0m │ dropout_3[\u001b[38;5;34m0\u001b[0m][\u001b[38;5;34m0\u001b[0m]        │\n",
              "├───────────────────────────┼────────────────────────┼────────────────┼────────────────────────┤\n",
              "│ target_food (\u001b[38;5;33mDense\u001b[0m)       │ (\u001b[38;5;45mNone\u001b[0m, \u001b[38;5;34m1\u001b[0m)              │             \u001b[38;5;34m33\u001b[0m │ dropout_3[\u001b[38;5;34m0\u001b[0m][\u001b[38;5;34m0\u001b[0m]        │\n",
              "├───────────────────────────┼────────────────────────┼────────────────┼────────────────────────┤\n",
              "│ target_transportation     │ (\u001b[38;5;45mNone\u001b[0m, \u001b[38;5;34m1\u001b[0m)              │             \u001b[38;5;34m33\u001b[0m │ dropout_3[\u001b[38;5;34m0\u001b[0m][\u001b[38;5;34m0\u001b[0m]        │\n",
              "│ (\u001b[38;5;33mDense\u001b[0m)                   │                        │                │                        │\n",
              "├───────────────────────────┼────────────────────────┼────────────────┼────────────────────────┤\n",
              "│ target_healthcare (\u001b[38;5;33mDense\u001b[0m) │ (\u001b[38;5;45mNone\u001b[0m, \u001b[38;5;34m1\u001b[0m)              │             \u001b[38;5;34m33\u001b[0m │ dropout_3[\u001b[38;5;34m0\u001b[0m][\u001b[38;5;34m0\u001b[0m]        │\n",
              "├───────────────────────────┼────────────────────────┼────────────────┼────────────────────────┤\n",
              "│ target_othernecessities   │ (\u001b[38;5;45mNone\u001b[0m, \u001b[38;5;34m1\u001b[0m)              │             \u001b[38;5;34m33\u001b[0m │ dropout_3[\u001b[38;5;34m0\u001b[0m][\u001b[38;5;34m0\u001b[0m]        │\n",
              "│ (\u001b[38;5;33mDense\u001b[0m)                   │                        │                │                        │\n",
              "├───────────────────────────┼────────────────────────┼────────────────┼────────────────────────┤\n",
              "│ target_childcare (\u001b[38;5;33mDense\u001b[0m)  │ (\u001b[38;5;45mNone\u001b[0m, \u001b[38;5;34m1\u001b[0m)              │             \u001b[38;5;34m33\u001b[0m │ dropout_3[\u001b[38;5;34m0\u001b[0m][\u001b[38;5;34m0\u001b[0m]        │\n",
              "├───────────────────────────┼────────────────────────┼────────────────┼────────────────────────┤\n",
              "│ target_taxes (\u001b[38;5;33mDense\u001b[0m)      │ (\u001b[38;5;45mNone\u001b[0m, \u001b[38;5;34m1\u001b[0m)              │             \u001b[38;5;34m33\u001b[0m │ dropout_3[\u001b[38;5;34m0\u001b[0m][\u001b[38;5;34m0\u001b[0m]        │\n",
              "└───────────────────────────┴────────────────────────┴────────────────┴────────────────────────┘\n"
            ],
            "text/html": [
              "<pre style=\"white-space:pre;overflow-x:auto;line-height:normal;font-family:Menlo,'DejaVu Sans Mono',consolas,'Courier New',monospace\">┏━━━━━━━━━━━━━━━━━━━━━━━━━━━┳━━━━━━━━━━━━━━━━━━━━━━━━┳━━━━━━━━━━━━━━━━┳━━━━━━━━━━━━━━━━━━━━━━━━┓\n",
              "┃<span style=\"font-weight: bold\"> Layer (type)              </span>┃<span style=\"font-weight: bold\"> Output Shape           </span>┃<span style=\"font-weight: bold\">        Param # </span>┃<span style=\"font-weight: bold\"> Connected to           </span>┃\n",
              "┡━━━━━━━━━━━━━━━━━━━━━━━━━━━╇━━━━━━━━━━━━━━━━━━━━━━━━╇━━━━━━━━━━━━━━━━╇━━━━━━━━━━━━━━━━━━━━━━━━┩\n",
              "│ input_layer (<span style=\"color: #0087ff; text-decoration-color: #0087ff\">InputLayer</span>)  │ (<span style=\"color: #00d7ff; text-decoration-color: #00d7ff\">None</span>, <span style=\"color: #00af00; text-decoration-color: #00af00\">10</span>, <span style=\"color: #00af00; text-decoration-color: #00af00\">1</span>)          │              <span style=\"color: #00af00; text-decoration-color: #00af00\">0</span> │ -                      │\n",
              "├───────────────────────────┼────────────────────────┼────────────────┼────────────────────────┤\n",
              "│ conv1d (<span style=\"color: #0087ff; text-decoration-color: #0087ff\">Conv1D</span>)           │ (<span style=\"color: #00d7ff; text-decoration-color: #00d7ff\">None</span>, <span style=\"color: #00af00; text-decoration-color: #00af00\">10</span>, <span style=\"color: #00af00; text-decoration-color: #00af00\">8</span>)          │             <span style=\"color: #00af00; text-decoration-color: #00af00\">32</span> │ input_layer[<span style=\"color: #00af00; text-decoration-color: #00af00\">0</span>][<span style=\"color: #00af00; text-decoration-color: #00af00\">0</span>]      │\n",
              "├───────────────────────────┼────────────────────────┼────────────────┼────────────────────────┤\n",
              "│ dropout (<span style=\"color: #0087ff; text-decoration-color: #0087ff\">Dropout</span>)         │ (<span style=\"color: #00d7ff; text-decoration-color: #00d7ff\">None</span>, <span style=\"color: #00af00; text-decoration-color: #00af00\">10</span>, <span style=\"color: #00af00; text-decoration-color: #00af00\">8</span>)          │              <span style=\"color: #00af00; text-decoration-color: #00af00\">0</span> │ conv1d[<span style=\"color: #00af00; text-decoration-color: #00af00\">0</span>][<span style=\"color: #00af00; text-decoration-color: #00af00\">0</span>]           │\n",
              "├───────────────────────────┼────────────────────────┼────────────────┼────────────────────────┤\n",
              "│ flatten (<span style=\"color: #0087ff; text-decoration-color: #0087ff\">Flatten</span>)         │ (<span style=\"color: #00d7ff; text-decoration-color: #00d7ff\">None</span>, <span style=\"color: #00af00; text-decoration-color: #00af00\">80</span>)             │              <span style=\"color: #00af00; text-decoration-color: #00af00\">0</span> │ dropout[<span style=\"color: #00af00; text-decoration-color: #00af00\">0</span>][<span style=\"color: #00af00; text-decoration-color: #00af00\">0</span>]          │\n",
              "├───────────────────────────┼────────────────────────┼────────────────┼────────────────────────┤\n",
              "│ dense (<span style=\"color: #0087ff; text-decoration-color: #0087ff\">Dense</span>)             │ (<span style=\"color: #00d7ff; text-decoration-color: #00d7ff\">None</span>, <span style=\"color: #00af00; text-decoration-color: #00af00\">128</span>)            │         <span style=\"color: #00af00; text-decoration-color: #00af00\">10,368</span> │ flatten[<span style=\"color: #00af00; text-decoration-color: #00af00\">0</span>][<span style=\"color: #00af00; text-decoration-color: #00af00\">0</span>]          │\n",
              "├───────────────────────────┼────────────────────────┼────────────────┼────────────────────────┤\n",
              "│ dropout_1 (<span style=\"color: #0087ff; text-decoration-color: #0087ff\">Dropout</span>)       │ (<span style=\"color: #00d7ff; text-decoration-color: #00d7ff\">None</span>, <span style=\"color: #00af00; text-decoration-color: #00af00\">128</span>)            │              <span style=\"color: #00af00; text-decoration-color: #00af00\">0</span> │ dense[<span style=\"color: #00af00; text-decoration-color: #00af00\">0</span>][<span style=\"color: #00af00; text-decoration-color: #00af00\">0</span>]            │\n",
              "├───────────────────────────┼────────────────────────┼────────────────┼────────────────────────┤\n",
              "│ dense_1 (<span style=\"color: #0087ff; text-decoration-color: #0087ff\">Dense</span>)           │ (<span style=\"color: #00d7ff; text-decoration-color: #00d7ff\">None</span>, <span style=\"color: #00af00; text-decoration-color: #00af00\">64</span>)             │          <span style=\"color: #00af00; text-decoration-color: #00af00\">8,256</span> │ dropout_1[<span style=\"color: #00af00; text-decoration-color: #00af00\">0</span>][<span style=\"color: #00af00; text-decoration-color: #00af00\">0</span>]        │\n",
              "├───────────────────────────┼────────────────────────┼────────────────┼────────────────────────┤\n",
              "│ dropout_2 (<span style=\"color: #0087ff; text-decoration-color: #0087ff\">Dropout</span>)       │ (<span style=\"color: #00d7ff; text-decoration-color: #00d7ff\">None</span>, <span style=\"color: #00af00; text-decoration-color: #00af00\">64</span>)             │              <span style=\"color: #00af00; text-decoration-color: #00af00\">0</span> │ dense_1[<span style=\"color: #00af00; text-decoration-color: #00af00\">0</span>][<span style=\"color: #00af00; text-decoration-color: #00af00\">0</span>]          │\n",
              "├───────────────────────────┼────────────────────────┼────────────────┼────────────────────────┤\n",
              "│ dense_2 (<span style=\"color: #0087ff; text-decoration-color: #0087ff\">Dense</span>)           │ (<span style=\"color: #00d7ff; text-decoration-color: #00d7ff\">None</span>, <span style=\"color: #00af00; text-decoration-color: #00af00\">32</span>)             │          <span style=\"color: #00af00; text-decoration-color: #00af00\">2,080</span> │ dropout_2[<span style=\"color: #00af00; text-decoration-color: #00af00\">0</span>][<span style=\"color: #00af00; text-decoration-color: #00af00\">0</span>]        │\n",
              "├───────────────────────────┼────────────────────────┼────────────────┼────────────────────────┤\n",
              "│ dropout_3 (<span style=\"color: #0087ff; text-decoration-color: #0087ff\">Dropout</span>)       │ (<span style=\"color: #00d7ff; text-decoration-color: #00d7ff\">None</span>, <span style=\"color: #00af00; text-decoration-color: #00af00\">32</span>)             │              <span style=\"color: #00af00; text-decoration-color: #00af00\">0</span> │ dense_2[<span style=\"color: #00af00; text-decoration-color: #00af00\">0</span>][<span style=\"color: #00af00; text-decoration-color: #00af00\">0</span>]          │\n",
              "├───────────────────────────┼────────────────────────┼────────────────┼────────────────────────┤\n",
              "│ target_housing (<span style=\"color: #0087ff; text-decoration-color: #0087ff\">Dense</span>)    │ (<span style=\"color: #00d7ff; text-decoration-color: #00d7ff\">None</span>, <span style=\"color: #00af00; text-decoration-color: #00af00\">1</span>)              │             <span style=\"color: #00af00; text-decoration-color: #00af00\">33</span> │ dropout_3[<span style=\"color: #00af00; text-decoration-color: #00af00\">0</span>][<span style=\"color: #00af00; text-decoration-color: #00af00\">0</span>]        │\n",
              "├───────────────────────────┼────────────────────────┼────────────────┼────────────────────────┤\n",
              "│ target_food (<span style=\"color: #0087ff; text-decoration-color: #0087ff\">Dense</span>)       │ (<span style=\"color: #00d7ff; text-decoration-color: #00d7ff\">None</span>, <span style=\"color: #00af00; text-decoration-color: #00af00\">1</span>)              │             <span style=\"color: #00af00; text-decoration-color: #00af00\">33</span> │ dropout_3[<span style=\"color: #00af00; text-decoration-color: #00af00\">0</span>][<span style=\"color: #00af00; text-decoration-color: #00af00\">0</span>]        │\n",
              "├───────────────────────────┼────────────────────────┼────────────────┼────────────────────────┤\n",
              "│ target_transportation     │ (<span style=\"color: #00d7ff; text-decoration-color: #00d7ff\">None</span>, <span style=\"color: #00af00; text-decoration-color: #00af00\">1</span>)              │             <span style=\"color: #00af00; text-decoration-color: #00af00\">33</span> │ dropout_3[<span style=\"color: #00af00; text-decoration-color: #00af00\">0</span>][<span style=\"color: #00af00; text-decoration-color: #00af00\">0</span>]        │\n",
              "│ (<span style=\"color: #0087ff; text-decoration-color: #0087ff\">Dense</span>)                   │                        │                │                        │\n",
              "├───────────────────────────┼────────────────────────┼────────────────┼────────────────────────┤\n",
              "│ target_healthcare (<span style=\"color: #0087ff; text-decoration-color: #0087ff\">Dense</span>) │ (<span style=\"color: #00d7ff; text-decoration-color: #00d7ff\">None</span>, <span style=\"color: #00af00; text-decoration-color: #00af00\">1</span>)              │             <span style=\"color: #00af00; text-decoration-color: #00af00\">33</span> │ dropout_3[<span style=\"color: #00af00; text-decoration-color: #00af00\">0</span>][<span style=\"color: #00af00; text-decoration-color: #00af00\">0</span>]        │\n",
              "├───────────────────────────┼────────────────────────┼────────────────┼────────────────────────┤\n",
              "│ target_othernecessities   │ (<span style=\"color: #00d7ff; text-decoration-color: #00d7ff\">None</span>, <span style=\"color: #00af00; text-decoration-color: #00af00\">1</span>)              │             <span style=\"color: #00af00; text-decoration-color: #00af00\">33</span> │ dropout_3[<span style=\"color: #00af00; text-decoration-color: #00af00\">0</span>][<span style=\"color: #00af00; text-decoration-color: #00af00\">0</span>]        │\n",
              "│ (<span style=\"color: #0087ff; text-decoration-color: #0087ff\">Dense</span>)                   │                        │                │                        │\n",
              "├───────────────────────────┼────────────────────────┼────────────────┼────────────────────────┤\n",
              "│ target_childcare (<span style=\"color: #0087ff; text-decoration-color: #0087ff\">Dense</span>)  │ (<span style=\"color: #00d7ff; text-decoration-color: #00d7ff\">None</span>, <span style=\"color: #00af00; text-decoration-color: #00af00\">1</span>)              │             <span style=\"color: #00af00; text-decoration-color: #00af00\">33</span> │ dropout_3[<span style=\"color: #00af00; text-decoration-color: #00af00\">0</span>][<span style=\"color: #00af00; text-decoration-color: #00af00\">0</span>]        │\n",
              "├───────────────────────────┼────────────────────────┼────────────────┼────────────────────────┤\n",
              "│ target_taxes (<span style=\"color: #0087ff; text-decoration-color: #0087ff\">Dense</span>)      │ (<span style=\"color: #00d7ff; text-decoration-color: #00d7ff\">None</span>, <span style=\"color: #00af00; text-decoration-color: #00af00\">1</span>)              │             <span style=\"color: #00af00; text-decoration-color: #00af00\">33</span> │ dropout_3[<span style=\"color: #00af00; text-decoration-color: #00af00\">0</span>][<span style=\"color: #00af00; text-decoration-color: #00af00\">0</span>]        │\n",
              "└───────────────────────────┴────────────────────────┴────────────────┴────────────────────────┘\n",
              "</pre>\n"
            ]
          },
          "metadata": {}
        },
        {
          "output_type": "display_data",
          "data": {
            "text/plain": [
              "\u001b[1m Total params: \u001b[0m\u001b[38;5;34m20,967\u001b[0m (81.90 KB)\n"
            ],
            "text/html": [
              "<pre style=\"white-space:pre;overflow-x:auto;line-height:normal;font-family:Menlo,'DejaVu Sans Mono',consolas,'Courier New',monospace\"><span style=\"font-weight: bold\"> Total params: </span><span style=\"color: #00af00; text-decoration-color: #00af00\">20,967</span> (81.90 KB)\n",
              "</pre>\n"
            ]
          },
          "metadata": {}
        },
        {
          "output_type": "display_data",
          "data": {
            "text/plain": [
              "\u001b[1m Trainable params: \u001b[0m\u001b[38;5;34m20,967\u001b[0m (81.90 KB)\n"
            ],
            "text/html": [
              "<pre style=\"white-space:pre;overflow-x:auto;line-height:normal;font-family:Menlo,'DejaVu Sans Mono',consolas,'Courier New',monospace\"><span style=\"font-weight: bold\"> Trainable params: </span><span style=\"color: #00af00; text-decoration-color: #00af00\">20,967</span> (81.90 KB)\n",
              "</pre>\n"
            ]
          },
          "metadata": {}
        },
        {
          "output_type": "display_data",
          "data": {
            "text/plain": [
              "\u001b[1m Non-trainable params: \u001b[0m\u001b[38;5;34m0\u001b[0m (0.00 B)\n"
            ],
            "text/html": [
              "<pre style=\"white-space:pre;overflow-x:auto;line-height:normal;font-family:Menlo,'DejaVu Sans Mono',consolas,'Courier New',monospace\"><span style=\"font-weight: bold\"> Non-trainable params: </span><span style=\"color: #00af00; text-decoration-color: #00af00\">0</span> (0.00 B)\n",
              "</pre>\n"
            ]
          },
          "metadata": {}
        },
        {
          "output_type": "stream",
          "name": "stdout",
          "text": [
            "Epoch 1/500\n",
            "\u001b[1m197/197\u001b[0m \u001b[32m━━━━━━━━━━━━━━━━━━━━\u001b[0m\u001b[37m\u001b[0m \u001b[1m0s\u001b[0m 9ms/step - loss: 6.0666 - target_childcare_loss: 0.6177 - target_food_loss: 0.4743 - target_healthcare_loss: 0.6479 - target_housing_loss: 0.6244 - target_othernecessities_loss: 0.5958 - target_taxes_loss: 0.5403 - target_transportation_loss: 0.7056"
          ]
        }
      ]
    },
    {
      "cell_type": "code",
      "source": [
        "def plot_residuals(y_true, y_pred, target_name):\n",
        "    \"\"\"\n",
        "    Plot residuals (actual - predicted) for a specific target.\n",
        "    \"\"\"\n",
        "    residuals = y_true - y_pred\n",
        "\n",
        "    plt.figure(figsize=(8, 5))\n",
        "    plt.scatter(y_pred, residuals, alpha=0.5, label=\"Residuals\")\n",
        "    plt.axhline(y=0, color='red', linestyle='--', label='Zero Error Line')\n",
        "    plt.title(f\"Residual Analysis for {target_name}\")\n",
        "    plt.xlabel(\"Predicted Values\")\n",
        "    plt.ylabel(\"Residuals\")\n",
        "    plt.legend()\n",
        "    plt.grid(True)\n",
        "    plt.show()\n",
        "\n",
        "# Perform residual analysis for each target category\n",
        "for i, target in enumerate(target_col_list):\n",
        "    print(f\"Residual Analysis for {target.capitalize()}:\")\n",
        "\n",
        "    # Training Residuals\n",
        "    print(\"Training Data:\")\n",
        "    plot_residuals(\n",
        "        y_train_original[:, i], y_train_pred_original[:, i], f\"{target} (Training)\"\n",
        "    )\n",
        "\n",
        "    # Validation Residuals\n",
        "    print(\"Validation Data:\")\n",
        "    plot_residuals(\n",
        "        y_val_original[:, i], y_val_pred_original[:, i], f\"{target} (Validation)\"\n",
        "    )\n",
        "\n",
        "    # Test Residuals\n",
        "    print(\"Test Data:\")\n",
        "    plot_residuals(\n",
        "        y_test_original[:, i], y_test_pred_original[:, i], f\"{target} (Test)\"\n",
        "    )\n"
      ],
      "metadata": {
        "id": "ZnOKvefPlb-q"
      },
      "execution_count": null,
      "outputs": []
    },
    {
      "cell_type": "code",
      "source": [
        "def get_prediction(model, input_data):\n",
        "    input_data_val = input_data.values\n",
        "    input_data_val_scaled = scaler_X.fit_transform(input_data_val)\n",
        "    input_data_val_scaled = input_data_val_scaled[..., np.newaxis]\n",
        "    input_data_pred = np.column_stack(model.predict(input_data_val_scaled))\n",
        "    input_data_pred_original = scaler_y.inverse_transform(input_data_pred)\n",
        "    return input_data_pred_original"
      ],
      "metadata": {
        "id": "maevFW_U6J4i"
      },
      "execution_count": null,
      "outputs": []
    },
    {
      "cell_type": "code",
      "source": [
        "input_data = pd.DataFrame(\n",
        "              [[7000,40000, 50, 2, 0, 1]],\n",
        "              columns=['total', 'median_family_income', 'num_counties_in_st', 'n_children', 'n_parents', 'n_members']\n",
        "        )\n",
        "\n",
        "input_data[\"per_member_cost\"] = input_data[\"total\"] / input_data[\"n_members\"]\n",
        "input_data[\"child_expense_cost\"] = input_data[\"per_member_cost\"]*input_data[\"n_children\"]\n",
        "input_data[\"parent_expense_cost\"] = input_data[\"per_member_cost\"]*input_data[\"n_parents\"]\n",
        "input_data[\"other_expense_cost\"] = input_data[\"total\"] - (input_data[\"child_expense_cost\"]+input_data[\"parent_expense_cost\"])"
      ],
      "metadata": {
        "id": "_d6urvD-6Nhc"
      },
      "execution_count": null,
      "outputs": []
    },
    {
      "cell_type": "code",
      "source": [
        "input_data_pred_original = get_prediction(model, input_data)"
      ],
      "metadata": {
        "id": "DVWDDxVV6QMF"
      },
      "execution_count": null,
      "outputs": []
    },
    {
      "cell_type": "code",
      "source": [
        "data_row = input_data_pred_original[0]\n",
        "data_row =np.array(input_data.values[0].tolist()+data_row.tolist())"
      ],
      "metadata": {
        "id": "eB7dg45x6Sva"
      },
      "execution_count": null,
      "outputs": []
    },
    {
      "cell_type": "code",
      "source": [
        "x_features = input_data[['total', 'median_family_income', 'num_counties_in_st', 'n_children', 'n_parents', 'n_members']].values[0]\n",
        "x_features"
      ],
      "metadata": {
        "id": "8LbHv4rh6YY0"
      },
      "execution_count": null,
      "outputs": []
    },
    {
      "cell_type": "code",
      "source": [
        "data_row = np.array(input_data[\"median_family_income\"].values.tolist()+input_data_pred_original[0].tolist())"
      ],
      "metadata": {
        "id": "IGdL3dXs6bEs"
      },
      "execution_count": null,
      "outputs": []
    },
    {
      "cell_type": "code",
      "source": [
        "data_row"
      ],
      "metadata": {
        "id": "mhAdnS4x6dLt"
      },
      "execution_count": null,
      "outputs": []
    },
    {
      "cell_type": "code",
      "source": [
        "import pandas as pd\n",
        "import numpy as np\n",
        "\n",
        "input_data = pd.DataFrame(\n",
        "    [[7000, 40000, 50, 2, 0, 1]],\n",
        "    columns=['total', 'median_family_income', 'num_counties_in_st', 'n_children', 'n_parents', 'n_members']\n",
        ")\n",
        "\n",
        "input_data[\"per_member_cost\"] = input_data[\"total\"] / input_data[\"n_members\"]\n",
        "input_data[\"child_expense_cost\"] = input_data[\"per_member_cost\"] * input_data[\"n_children\"]\n",
        "input_data[\"parent_expense_cost\"] = input_data[\"per_member_cost\"] * input_data[\"n_parents\"]\n",
        "input_data[\"other_expense_cost\"] = input_data[\"total\"] - (input_data[\"child_expense_cost\"] + input_data[\"parent_expense_cost\"])\n",
        "\n",
        "input_data_pred_original = get_prediction(model, input_data)\n",
        "\n",
        "\n",
        "# Print predictions with labels\n",
        "target_col_list = ['housing', 'food', 'transportation', 'healthcare', 'othernecessities', 'childcare', 'taxes']\n",
        "for i, prediction in enumerate(input_data_pred_original[0]):\n",
        "    print(f\"{target_col_list[i]}: {prediction}\")"
      ],
      "metadata": {
        "id": "9lc0FZ2F6gih"
      },
      "execution_count": null,
      "outputs": []
    }
  ]
}